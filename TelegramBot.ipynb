{
 "cells": [
  {
   "cell_type": "markdown",
   "metadata": {},
   "source": [
    "<h1><center>Assigement 1</center></h1>\n"
   ]
  },
  {
   "cell_type": "markdown",
   "metadata": {},
   "source": [
    "**Code of a simple bot that listens to a conversation and returns a message as function of something within the conversation.**\n",
    "<br>\n",
    "\n",
    "The bot gives you either the capital or country name of any European nation and computes some simple operations. <br>\n",
    "\n",
    "\n"
   ]
  },
  {
   "cell_type": "code",
   "execution_count": null,
   "metadata": {},
   "outputs": [],
   "source": [
    "# 1. We import the packages needed and create a dictionary with all the countries and thier capitals of Europe.\n",
    "from telegram import *\n",
    "from telegram.ext import *\n",
    "import numpy as np\n",
    "\n",
    "C=dict = {\"Spain\":\"Madrid\",\n",
    "\"Albania\":\"Tirana\",\n",
    "\"Andorra\":\"Andorra la Vella\",\n",
    "\"Armenia\":\"Yerevan\",\n",
    "\"Austria\":\"Vienna\",\n",
    "\"Belarus\":\"Minsk\",\n",
    "\"Belgium\":\"Brussels\",\n",
    "\"Bulgaria\":\"Sofia\",\n",
    "\"Croatia\":\"Zagreb\",\n",
    "\"Czechia\":\"Prague\",\n",
    "\"Denmark\":\"Copenhagen\",\n",
    "\"Estonia\":\"Tallinn\",\n",
    "\"Finland\":\"Helsinki\",\n",
    "\"France\":\"Paris\",\n",
    "\"Germany\":\"Berlin\",\n",
    "\"Greece\":\"Athens\",\n",
    "\"Hungary\":\"Budapest\",\n",
    "\"Iceland\":\"Reykjavik\",\n",
    "\"Ireland\":\"Dublin\",\n",
    "\"Italy\":\"Rome\",\n",
    "\"Latvia\":\"Riga\",\n",
    "\"Netherlands\":\"Amsterdam\",\n",
    "\"Norway\":\"Oslo\",\n",
    "\"Poland\":\"Warsaw\",\n",
    "\"Portugal\":\"Lisbon\",\n",
    "\"Romania\":\"Bucharest\",\n",
    "\"Russia\":\"Moscow\",\n",
    "\"Sweden\":\"Stockholm\",\n",
    "\"Slovenia\":\"Ljubljana\",\n",
    "\"Switzerland\":\"Bern\",\n",
    "\"Turkey\":\"Ankara\",\n",
    "\"United Kingdom\":\"London\",\n",
    "}"
   ]
  },
  {
   "cell_type": "code",
   "execution_count": null,
   "metadata": {},
   "outputs": [],
   "source": [
    "#2. We check if the bot created exists\n",
    "bot=Bot(\"copy here your user indentifier\")\n",
    "print(bot.get_me()) #As a result we will get the bot information"
   ]
  },
  {
   "cell_type": "markdown",
   "metadata": {},
   "source": [
    "### Definition of command handler\n",
    "We define the functions that we  have used to response to commands.\n"
   ]
  },
  {
   "cell_type": "code",
   "execution_count": 6,
   "metadata": {},
   "outputs": [],
   "source": [
    "#Send a message when the command /start is issued.\n",
    "def start_command(update,context):\n",
    "    \n",
    "    s=\"\"\" Hi! my name is Alf I am a bot created for an academic purpose.  \n",
    "    By command, I can help you to get a descriptive statistic of a vector, or compute the sum and product of all its elements.\n",
    "    By texting, I can help you to find out the capitals of all the countries in Europe. For more information type \"/help\" \"\"\"\n",
    "\n",
    "    update.message.reply_text(s)"
   ]
  },
  {
   "cell_type": "code",
   "execution_count": 7,
   "metadata": {},
   "outputs": [],
   "source": [
    "#Send a message when the command /help is issued.\n",
    "def help_command(update,context):\n",
    "    \n",
    "    h=\"\"\"*Commands available*\n",
    "    /product ->To get the product of a list of numbers.\n",
    "    /sum -> To get the sum of a list of numbers.\n",
    "    /statistics-> To get the mean, standard deviation, variance, maximum value and minimum value of a list of numbers.\n",
    "    \n",
    "    ***Text function**\n",
    "    You just need to type either the capital or the country name of an European nation.\"\"\"\n",
    "\n",
    "    update.message.reply_text(h)"
   ]
  },
  {
   "cell_type": "code",
   "execution_count": 8,
   "metadata": {},
   "outputs": [],
   "source": [
    "#Send a message when the command /product is issued.\n",
    "\n",
    "#It returns the product of the elements of a given list.\n",
    "def product_command(update, context):\n",
    "    try:\n",
    "        m=[int(x) for x in context.args]\n",
    "        product = np.prod(m)\n",
    "        update.message.reply_text('The product is '+str(product)) \n",
    "\n",
    "    except (IndexError, ValueError):\n",
    "        update.message.reply_text('Please enter two numbers') "
   ]
  },
  {
   "cell_type": "markdown",
   "metadata": {},
   "source": [
    "**Example of how you should call the command \"/product\" in telegram:** <br>\n",
    "/product 2 3 4 1<br>\n",
    "*Bot answer: The sum is 24*"
   ]
  },
  {
   "cell_type": "code",
   "execution_count": 3,
   "metadata": {},
   "outputs": [],
   "source": [
    "#Send a message when the command /sum is issued.\n",
    "\n",
    "#It returns the sum of the elements of a given list\n",
    "def sum_command(update, context):\n",
    "    try:\n",
    "        m=[int(x) for x in context.args]\n",
    "        suma = np.sum(m)\n",
    "        update.message.reply_text('The sum is '+str(suma)) \n",
    "\n",
    "    except (IndexError, ValueError):\n",
    "        update.message.reply_text('Please enter two numbers') "
   ]
  },
  {
   "cell_type": "markdown",
   "metadata": {},
   "source": [
    "**Example of how you should call the command \"/sum\" in telegram:** <br>\n",
    "/sum 2 3 4 1<br>\n",
    "*Bot answer: The sum is 10*"
   ]
  },
  {
   "cell_type": "code",
   "execution_count": 12,
   "metadata": {},
   "outputs": [],
   "source": [
    "#Send a message when the command /statistics is issued.\n",
    "\n",
    "#It returns the the mean, standard deviation, variance, maximum value and minimum value of the elements of a given list\n",
    "def statistics_command(update, context): \n",
    "    try:\n",
    "        m=[int(x) for x in context.args]\n",
    "        mean=np.mean(m)\n",
    "        std=np.std(m)\n",
    "        var=np.var(m)\n",
    "        max_value=np.max(m)\n",
    "        min_value=np.min(m)\n",
    "        update.message.reply_text(\"Mean: %f  std: %f  var: %f max: %f min: %f\" %(mean,std,var,max_value,min_value))\n",
    "\n",
    "    except (IndexError, ValueError):\n",
    "        update.message.reply_text('Please a enter line of numbers separeted by space') "
   ]
  },
  {
   "cell_type": "markdown",
   "metadata": {},
   "source": [
    "**Example of how you should call the command \"/statistics\" in telegram:** <br>\n",
    "/statistics 2 3 4 1<br>\n",
    "*Bot answer: Mean: 2.5   std: 1.11    var:1.25    max:4    min:1* "
   ]
  },
  {
   "cell_type": "markdown",
   "metadata": {},
   "source": [
    "### DEFINITION OF MESSAGE HANDLERS\n",
    "We define the functions that we  have used to response to text message.\n"
   ]
  },
  {
   "cell_type": "code",
   "execution_count": 9,
   "metadata": {},
   "outputs": [],
   "source": [
    "#Function used to get the capital or country depending on the input text\n",
    "def getCapital(x):\n",
    "    for key,value in C.items():\n",
    "        if x==key:\n",
    "            out=\"The capital of \"+x+ \" is \"+value\n",
    "            return out \n",
    "        if x==value:\n",
    "            out= value+\" is the capital of \"+ key\n",
    "            return out\n",
    "    return \"Type an European country or city name\"\n",
    "\n",
    "#Function used to manage the text, execute the function GetCapital and get a repsonse.\n",
    "def handle_message(update, context):\n",
    "    \"\"\"Response to user message.\"\"\"\n",
    "    try:\n",
    "        user_message=str(update.message.text)\n",
    "        answer=getCapital(user_message)\n",
    "        update.message.reply_text(answer)\n",
    "\n",
    "    except (IndexError, ValueError):\n",
    "        update.message.reply_text('Type a country or city name') "
   ]
  },
  {
   "cell_type": "markdown",
   "metadata": {},
   "source": [
    "**Example of how you should interact with the bot by text** <br>\n",
    "Italy<br>\n",
    "*Bot answer: The capital of Italy is rome*<br>\n",
    "\n",
    "Rome<br>\n",
    "*Bot answer: Rome is the capital of Italy*<br>\n",
    "\n",
    "\n",
    "!Notice that the initial letter of the country or capital name must be in capital letters!"
   ]
  },
  {
   "cell_type": "markdown",
   "metadata": {},
   "source": [
    "### DEFINITION OF MAIN FUNCTION\n",
    "This function is the core of the code, it gets the response of the command and message handlers and dispatch them as an answer in telegram."
   ]
  },
  {
   "cell_type": "code",
   "execution_count": null,
   "metadata": {},
   "outputs": [],
   "source": [
    "def main():\n",
    "    #We create updater variable.\n",
    "    updater = Updater(\"copy here your user identifier\",use_context=True)\n",
    "\n",
    "    # #We create a dispatcher variable. This variable will dispatch whatever is updated to our telegram bot\n",
    "    dispatcher = updater.dispatcher\n",
    "\n",
    "    #Get response on commands\n",
    "    dispatcher.add_handler(CommandHandler(\"start\", start_command))\n",
    "    dispatcher.add_handler(CommandHandler(\"help\", help_command))\n",
    "    dispatcher.add_handler(CommandHandler(\"sum\", sum_command))\n",
    "    dispatcher.add_handler(CommandHandler(\"product\", product_command))\n",
    "    dispatcher.add_handler(CommandHandler(\"statistics\", statistics_command))\n",
    "\n",
    "    #Get response on message\n",
    "    dispatcher.add_handler(MessageHandler(Filters.text, handle_message))\n",
    "\n",
    "    updater.start_polling()\n",
    "    updater.idle()\n",
    "\n",
    "if __name__ == '__main__':\n",
    "    main()\n"
   ]
  }
 ],
 "metadata": {
  "kernelspec": {
   "display_name": "Python 3",
   "language": "python",
   "name": "python3"
  },
  "language_info": {
   "codemirror_mode": {
    "name": "ipython",
    "version": 3
   },
   "file_extension": ".py",
   "mimetype": "text/x-python",
   "name": "python",
   "nbconvert_exporter": "python",
   "pygments_lexer": "ipython3",
   "version": "3.8.5"
  }
 },
 "nbformat": 4,
 "nbformat_minor": 4
}
